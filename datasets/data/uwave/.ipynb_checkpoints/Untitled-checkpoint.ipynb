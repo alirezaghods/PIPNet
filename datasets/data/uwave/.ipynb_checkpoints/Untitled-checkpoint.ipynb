{
 "cells": [
  {
   "cell_type": "code",
   "execution_count": 17,
   "id": "appreciated-presentation",
   "metadata": {},
   "outputs": [],
   "source": [
    "from scipy.io import arff\n",
    "import pandas as pd\n",
    "import numpy as np"
   ]
  },
  {
   "cell_type": "code",
   "execution_count": 62,
   "id": "naked-sending",
   "metadata": {},
   "outputs": [],
   "source": [
    "def read_data():\n",
    "    train_dim1 = pd.DataFrame(arff.loadarff('UWaveGestureLibraryDimension1_TRAIN.arff')[0])\n",
    "    train_dim2 = pd.DataFrame(arff.loadarff('UWaveGestureLibraryDimension2_TRAIN.arff')[0])\n",
    "    train_dim3 = pd.DataFrame(arff.loadarff('UWaveGestureLibraryDimension3_TRAIN.arff')[0])\n",
    "    test_dim1 = pd.DataFrame(arff.loadarff('UWaveGestureLibraryDimension1_TEST.arff')[0])\n",
    "    test_dim2 = pd.DataFrame(arff.loadarff('UWaveGestureLibraryDimension2_TEST.arff')[0])\n",
    "    test_dim3 = pd.DataFrame(arff.loadarff('UWaveGestureLibraryDimension3_TEST.arff')[0])\n",
    "    \n",
    "    X_train = np.stack([train_dim1[train_dim1.columns[:315]].to_numpy(),train_dim2[train_dim2.columns[:315]].to_numpy(),train_dim3[train_dim3.columns[:315]].to_numpy()],axis=2)\n",
    "    X_test = np.stack([test_dim1[test_dim1.columns[:315]].to_numpy(),test_dim2[test_dim2.columns[:315]].to_numpy(),test_dim3[test_dim3.columns[:315]].to_numpy()],axis=2)\n",
    "    y_train = [int(float(y))-1 for y in list(train_dim1.classAttribute)]\n",
    "    y_test = [int(float(y))-1 for y in list(test_dim1.classAttribute)]\n",
    "    return X_train, X_test, y_train, y_test"
   ]
  },
  {
   "cell_type": "code",
   "execution_count": 63,
   "id": "built-equity",
   "metadata": {},
   "outputs": [],
   "source": [
    "x, t, l1, l2= read_data()"
   ]
  },
  {
   "cell_type": "code",
   "execution_count": 64,
   "id": "nonprofit-allen",
   "metadata": {},
   "outputs": [
    {
     "data": {
      "text/plain": [
       "(120, 315, 3)"
      ]
     },
     "execution_count": 64,
     "metadata": {},
     "output_type": "execute_result"
    }
   ],
   "source": [
    "x.shape"
   ]
  },
  {
   "cell_type": "code",
   "execution_count": 65,
   "id": "scheduled-singles",
   "metadata": {},
   "outputs": [
    {
     "data": {
      "text/plain": [
       "(320, 315, 3)"
      ]
     },
     "execution_count": 65,
     "metadata": {},
     "output_type": "execute_result"
    }
   ],
   "source": [
    "t.shape"
   ]
  },
  {
   "cell_type": "code",
   "execution_count": 66,
   "id": "palestinian-preservation",
   "metadata": {},
   "outputs": [
    {
     "data": {
      "text/plain": [
       "320"
      ]
     },
     "execution_count": 66,
     "metadata": {},
     "output_type": "execute_result"
    }
   ],
   "source": [
    "len(l2)"
   ]
  },
  {
   "cell_type": "code",
   "execution_count": 67,
   "id": "fiscal-elimination",
   "metadata": {},
   "outputs": [
    {
     "data": {
      "text/plain": [
       "[0,\n",
       " 0,\n",
       " 0,\n",
       " 0,\n",
       " 0,\n",
       " 0,\n",
       " 0,\n",
       " 0,\n",
       " 0,\n",
       " 0,\n",
       " 0,\n",
       " 0,\n",
       " 0,\n",
       " 0,\n",
       " 0,\n",
       " 1,\n",
       " 1,\n",
       " 1,\n",
       " 1,\n",
       " 1,\n",
       " 1,\n",
       " 1,\n",
       " 1,\n",
       " 1,\n",
       " 1,\n",
       " 1,\n",
       " 1,\n",
       " 1,\n",
       " 1,\n",
       " 1,\n",
       " 2,\n",
       " 2,\n",
       " 2,\n",
       " 2,\n",
       " 2,\n",
       " 2,\n",
       " 2,\n",
       " 2,\n",
       " 2,\n",
       " 2,\n",
       " 2,\n",
       " 2,\n",
       " 2,\n",
       " 2,\n",
       " 2,\n",
       " 3,\n",
       " 3,\n",
       " 3,\n",
       " 3,\n",
       " 3,\n",
       " 3,\n",
       " 3,\n",
       " 3,\n",
       " 3,\n",
       " 3,\n",
       " 3,\n",
       " 3,\n",
       " 3,\n",
       " 3,\n",
       " 3,\n",
       " 4,\n",
       " 4,\n",
       " 4,\n",
       " 4,\n",
       " 4,\n",
       " 4,\n",
       " 4,\n",
       " 4,\n",
       " 4,\n",
       " 4,\n",
       " 4,\n",
       " 4,\n",
       " 4,\n",
       " 4,\n",
       " 4,\n",
       " 5,\n",
       " 5,\n",
       " 5,\n",
       " 5,\n",
       " 5,\n",
       " 5,\n",
       " 5,\n",
       " 5,\n",
       " 5,\n",
       " 5,\n",
       " 5,\n",
       " 5,\n",
       " 5,\n",
       " 5,\n",
       " 5,\n",
       " 6,\n",
       " 6,\n",
       " 6,\n",
       " 6,\n",
       " 6,\n",
       " 6,\n",
       " 6,\n",
       " 6,\n",
       " 6,\n",
       " 6,\n",
       " 6,\n",
       " 6,\n",
       " 6,\n",
       " 6,\n",
       " 6,\n",
       " 7,\n",
       " 7,\n",
       " 7,\n",
       " 7,\n",
       " 7,\n",
       " 7,\n",
       " 7,\n",
       " 7,\n",
       " 7,\n",
       " 7,\n",
       " 7,\n",
       " 7,\n",
       " 7,\n",
       " 7,\n",
       " 7]"
      ]
     },
     "execution_count": 67,
     "metadata": {},
     "output_type": "execute_result"
    }
   ],
   "source": [
    "l1"
   ]
  },
  {
   "cell_type": "code",
   "execution_count": 68,
   "id": "exterior-migration",
   "metadata": {},
   "outputs": [],
   "source": [
    "data = arff.loadarff('UWaveGestureLibraryDimension1_TEST.arff')"
   ]
  },
  {
   "cell_type": "code",
   "execution_count": 19,
   "id": "informal-exhaust",
   "metadata": {},
   "outputs": [
    {
     "data": {
      "text/plain": [
       "numpy.ndarray"
      ]
     },
     "execution_count": 19,
     "metadata": {},
     "output_type": "execute_result"
    }
   ],
   "source": [
    "type(data[0])"
   ]
  },
  {
   "cell_type": "code",
   "execution_count": 25,
   "id": "seasonal-crowd",
   "metadata": {},
   "outputs": [
    {
     "data": {
      "text/plain": [
       "numpy.void"
      ]
     },
     "execution_count": 25,
     "metadata": {},
     "output_type": "execute_result"
    }
   ],
   "source": [
    "type(data[0][0])"
   ]
  },
  {
   "cell_type": "code",
   "execution_count": null,
   "id": "physical-hydrogen",
   "metadata": {},
   "outputs": [],
   "source": [
    "d = np.array"
   ]
  },
  {
   "cell_type": "code",
   "execution_count": 69,
   "id": "distinguished-carpet",
   "metadata": {},
   "outputs": [],
   "source": [
    "df = pd.DataFrame(data[0])"
   ]
  },
  {
   "cell_type": "code",
   "execution_count": 70,
   "id": "interested-cathedral",
   "metadata": {},
   "outputs": [
    {
     "data": {
      "text/plain": [
       "(320, 316)"
      ]
     },
     "execution_count": 70,
     "metadata": {},
     "output_type": "execute_result"
    }
   ],
   "source": [
    "df.shape"
   ]
  },
  {
   "cell_type": "code",
   "execution_count": 38,
   "id": "associate-philip",
   "metadata": {},
   "outputs": [],
   "source": [
    "h = np.stack([df[df.columns[:315]].to_numpy(), df[df.columns[:315]].to_numpy(), df[df.columns[:315]].to_numpy()],axis=2)"
   ]
  },
  {
   "cell_type": "code",
   "execution_count": 39,
   "id": "unknown-concert",
   "metadata": {},
   "outputs": [
    {
     "data": {
      "text/plain": [
       "(120, 315, 3)"
      ]
     },
     "execution_count": 39,
     "metadata": {},
     "output_type": "execute_result"
    }
   ],
   "source": [
    "h.shape"
   ]
  },
  {
   "cell_type": "code",
   "execution_count": 50,
   "id": "affiliated-barrel",
   "metadata": {},
   "outputs": [],
   "source": [
    "y = [int(float(y)) for y in list(df.classAttribute)]"
   ]
  },
  {
   "cell_type": "code",
   "execution_count": 51,
   "id": "hybrid-smart",
   "metadata": {},
   "outputs": [
    {
     "data": {
      "text/plain": [
       "[1,\n",
       " 1,\n",
       " 1,\n",
       " 1,\n",
       " 1,\n",
       " 1,\n",
       " 1,\n",
       " 1,\n",
       " 1,\n",
       " 1,\n",
       " 1,\n",
       " 1,\n",
       " 1,\n",
       " 1,\n",
       " 1,\n",
       " 2,\n",
       " 2,\n",
       " 2,\n",
       " 2,\n",
       " 2,\n",
       " 2,\n",
       " 2,\n",
       " 2,\n",
       " 2,\n",
       " 2,\n",
       " 2,\n",
       " 2,\n",
       " 2,\n",
       " 2,\n",
       " 2,\n",
       " 3,\n",
       " 3,\n",
       " 3,\n",
       " 3,\n",
       " 3,\n",
       " 3,\n",
       " 3,\n",
       " 3,\n",
       " 3,\n",
       " 3,\n",
       " 3,\n",
       " 3,\n",
       " 3,\n",
       " 3,\n",
       " 3,\n",
       " 4,\n",
       " 4,\n",
       " 4,\n",
       " 4,\n",
       " 4,\n",
       " 4,\n",
       " 4,\n",
       " 4,\n",
       " 4,\n",
       " 4,\n",
       " 4,\n",
       " 4,\n",
       " 4,\n",
       " 4,\n",
       " 4,\n",
       " 5,\n",
       " 5,\n",
       " 5,\n",
       " 5,\n",
       " 5,\n",
       " 5,\n",
       " 5,\n",
       " 5,\n",
       " 5,\n",
       " 5,\n",
       " 5,\n",
       " 5,\n",
       " 5,\n",
       " 5,\n",
       " 5,\n",
       " 6,\n",
       " 6,\n",
       " 6,\n",
       " 6,\n",
       " 6,\n",
       " 6,\n",
       " 6,\n",
       " 6,\n",
       " 6,\n",
       " 6,\n",
       " 6,\n",
       " 6,\n",
       " 6,\n",
       " 6,\n",
       " 6,\n",
       " 7,\n",
       " 7,\n",
       " 7,\n",
       " 7,\n",
       " 7,\n",
       " 7,\n",
       " 7,\n",
       " 7,\n",
       " 7,\n",
       " 7,\n",
       " 7,\n",
       " 7,\n",
       " 7,\n",
       " 7,\n",
       " 7,\n",
       " 8,\n",
       " 8,\n",
       " 8,\n",
       " 8,\n",
       " 8,\n",
       " 8,\n",
       " 8,\n",
       " 8,\n",
       " 8,\n",
       " 8,\n",
       " 8,\n",
       " 8,\n",
       " 8,\n",
       " 8,\n",
       " 8]"
      ]
     },
     "execution_count": 51,
     "metadata": {},
     "output_type": "execute_result"
    }
   ],
   "source": [
    "y"
   ]
  },
  {
   "cell_type": "code",
   "execution_count": 31,
   "id": "structural-efficiency",
   "metadata": {},
   "outputs": [
    {
     "data": {
      "text/plain": [
       "array([[ 0.31745 ,  0.31745 ,  0.31745 , ..., -1.3797  , -1.3354  ,\n",
       "        -1.291   ],\n",
       "       [ 0.013633,  0.013633,  0.013633, ..., -0.30138 , -0.27113 ,\n",
       "        -0.24087 ],\n",
       "       [-1.4075  , -1.4075  , -1.4075  , ...,  0.17456 ,  0.18237 ,\n",
       "         0.19018 ],\n",
       "       ...,\n",
       "       [ 1.1111  ,  1.1111  ,  1.1111  , ...,  0.11925 ,  0.092708,\n",
       "         0.065031],\n",
       "       [-0.98835 , -0.98835 , -0.98835 , ...,  0.090599,  0.016495,\n",
       "        -0.057609],\n",
       "       [-0.14079 , -0.14079 , -0.14079 , ...,  0.74769 ,  0.74769 ,\n",
       "         0.74769 ]])"
      ]
     },
     "execution_count": 31,
     "metadata": {},
     "output_type": "execute_result"
    }
   ],
   "source": [
    "df[df.columns[:315]].to_numpy()"
   ]
  },
  {
   "cell_type": "code",
   "execution_count": null,
   "id": "parental-shanghai",
   "metadata": {},
   "outputs": [],
   "source": []
  },
  {
   "cell_type": "code",
   "execution_count": 12,
   "id": "religious-invalid",
   "metadata": {},
   "outputs": [
    {
     "data": {
      "text/plain": [
       "(120, 316)"
      ]
     },
     "execution_count": 12,
     "metadata": {},
     "output_type": "execute_result"
    }
   ],
   "source": [
    "df.shape"
   ]
  },
  {
   "cell_type": "code",
   "execution_count": 13,
   "id": "worth-phone",
   "metadata": {},
   "outputs": [],
   "source": [
    "data = arff.loadarff('UWaveGestureLibraryDimension2_TRAIN.arff')"
   ]
  },
  {
   "cell_type": "code",
   "execution_count": 14,
   "id": "unnecessary-qatar",
   "metadata": {},
   "outputs": [],
   "source": [
    "df = pd.DataFrame(data[0])"
   ]
  },
  {
   "cell_type": "code",
   "execution_count": 15,
   "id": "selective-chance",
   "metadata": {},
   "outputs": [
    {
     "data": {
      "text/html": [
       "<div>\n",
       "<style scoped>\n",
       "    .dataframe tbody tr th:only-of-type {\n",
       "        vertical-align: middle;\n",
       "    }\n",
       "\n",
       "    .dataframe tbody tr th {\n",
       "        vertical-align: top;\n",
       "    }\n",
       "\n",
       "    .dataframe thead th {\n",
       "        text-align: right;\n",
       "    }\n",
       "</style>\n",
       "<table border=\"1\" class=\"dataframe\">\n",
       "  <thead>\n",
       "    <tr style=\"text-align: right;\">\n",
       "      <th></th>\n",
       "      <th>channel_1_0</th>\n",
       "      <th>channel_1_1</th>\n",
       "      <th>channel_1_2</th>\n",
       "      <th>channel_1_3</th>\n",
       "      <th>channel_1_4</th>\n",
       "      <th>channel_1_5</th>\n",
       "      <th>channel_1_6</th>\n",
       "      <th>channel_1_7</th>\n",
       "      <th>channel_1_8</th>\n",
       "      <th>channel_1_9</th>\n",
       "      <th>...</th>\n",
       "      <th>channel_1_306</th>\n",
       "      <th>channel_1_307</th>\n",
       "      <th>channel_1_308</th>\n",
       "      <th>channel_1_309</th>\n",
       "      <th>channel_1_310</th>\n",
       "      <th>channel_1_311</th>\n",
       "      <th>channel_1_312</th>\n",
       "      <th>channel_1_313</th>\n",
       "      <th>channel_1_314</th>\n",
       "      <th>classAttribute</th>\n",
       "    </tr>\n",
       "  </thead>\n",
       "  <tbody>\n",
       "    <tr>\n",
       "      <th>0</th>\n",
       "      <td>-1.43450</td>\n",
       "      <td>-1.43450</td>\n",
       "      <td>-1.43450</td>\n",
       "      <td>-1.43450</td>\n",
       "      <td>-1.43450</td>\n",
       "      <td>-1.43450</td>\n",
       "      <td>-1.43450</td>\n",
       "      <td>-1.43450</td>\n",
       "      <td>-1.43450</td>\n",
       "      <td>-1.43450</td>\n",
       "      <td>...</td>\n",
       "      <td>0.77890</td>\n",
       "      <td>0.72444</td>\n",
       "      <td>0.71900</td>\n",
       "      <td>0.74817</td>\n",
       "      <td>0.80045</td>\n",
       "      <td>0.84197</td>\n",
       "      <td>0.85115</td>\n",
       "      <td>0.85115</td>\n",
       "      <td>0.85115</td>\n",
       "      <td>b'1.0'</td>\n",
       "    </tr>\n",
       "    <tr>\n",
       "      <th>1</th>\n",
       "      <td>-1.00840</td>\n",
       "      <td>-1.00840</td>\n",
       "      <td>-1.00840</td>\n",
       "      <td>-1.00840</td>\n",
       "      <td>-1.00840</td>\n",
       "      <td>-1.00840</td>\n",
       "      <td>-1.00840</td>\n",
       "      <td>-1.00840</td>\n",
       "      <td>-1.00840</td>\n",
       "      <td>-1.00840</td>\n",
       "      <td>...</td>\n",
       "      <td>0.89650</td>\n",
       "      <td>0.92860</td>\n",
       "      <td>0.96034</td>\n",
       "      <td>0.98061</td>\n",
       "      <td>0.98061</td>\n",
       "      <td>0.97453</td>\n",
       "      <td>0.95061</td>\n",
       "      <td>0.91327</td>\n",
       "      <td>0.87593</td>\n",
       "      <td>b'1.0'</td>\n",
       "    </tr>\n",
       "    <tr>\n",
       "      <th>2</th>\n",
       "      <td>0.69579</td>\n",
       "      <td>0.69579</td>\n",
       "      <td>0.69579</td>\n",
       "      <td>0.69579</td>\n",
       "      <td>0.69579</td>\n",
       "      <td>0.69579</td>\n",
       "      <td>0.69579</td>\n",
       "      <td>0.69579</td>\n",
       "      <td>0.69579</td>\n",
       "      <td>0.69579</td>\n",
       "      <td>...</td>\n",
       "      <td>-0.29499</td>\n",
       "      <td>-0.32339</td>\n",
       "      <td>-0.35012</td>\n",
       "      <td>-0.37685</td>\n",
       "      <td>-0.36570</td>\n",
       "      <td>-0.33724</td>\n",
       "      <td>-0.30878</td>\n",
       "      <td>-0.28033</td>\n",
       "      <td>-0.25187</td>\n",
       "      <td>b'1.0'</td>\n",
       "    </tr>\n",
       "    <tr>\n",
       "      <th>3</th>\n",
       "      <td>-0.79333</td>\n",
       "      <td>-0.79333</td>\n",
       "      <td>-0.79333</td>\n",
       "      <td>-0.79333</td>\n",
       "      <td>-0.79333</td>\n",
       "      <td>-0.79333</td>\n",
       "      <td>-0.79333</td>\n",
       "      <td>-0.79333</td>\n",
       "      <td>-0.79333</td>\n",
       "      <td>-0.79333</td>\n",
       "      <td>...</td>\n",
       "      <td>0.87853</td>\n",
       "      <td>0.89864</td>\n",
       "      <td>0.91778</td>\n",
       "      <td>0.93692</td>\n",
       "      <td>0.95607</td>\n",
       "      <td>0.95655</td>\n",
       "      <td>0.95655</td>\n",
       "      <td>0.95655</td>\n",
       "      <td>0.95655</td>\n",
       "      <td>b'1.0'</td>\n",
       "    </tr>\n",
       "    <tr>\n",
       "      <th>4</th>\n",
       "      <td>-1.09450</td>\n",
       "      <td>-1.09450</td>\n",
       "      <td>-1.09450</td>\n",
       "      <td>-1.09450</td>\n",
       "      <td>-1.09450</td>\n",
       "      <td>-1.09450</td>\n",
       "      <td>-1.09450</td>\n",
       "      <td>-1.09450</td>\n",
       "      <td>-1.09450</td>\n",
       "      <td>-1.09450</td>\n",
       "      <td>...</td>\n",
       "      <td>1.19180</td>\n",
       "      <td>1.19180</td>\n",
       "      <td>1.19180</td>\n",
       "      <td>1.19180</td>\n",
       "      <td>1.19180</td>\n",
       "      <td>1.19180</td>\n",
       "      <td>1.19180</td>\n",
       "      <td>1.19180</td>\n",
       "      <td>1.19180</td>\n",
       "      <td>b'1.0'</td>\n",
       "    </tr>\n",
       "  </tbody>\n",
       "</table>\n",
       "<p>5 rows × 316 columns</p>\n",
       "</div>"
      ],
      "text/plain": [
       "   channel_1_0  channel_1_1  channel_1_2  channel_1_3  channel_1_4  \\\n",
       "0     -1.43450     -1.43450     -1.43450     -1.43450     -1.43450   \n",
       "1     -1.00840     -1.00840     -1.00840     -1.00840     -1.00840   \n",
       "2      0.69579      0.69579      0.69579      0.69579      0.69579   \n",
       "3     -0.79333     -0.79333     -0.79333     -0.79333     -0.79333   \n",
       "4     -1.09450     -1.09450     -1.09450     -1.09450     -1.09450   \n",
       "\n",
       "   channel_1_5  channel_1_6  channel_1_7  channel_1_8  channel_1_9  ...  \\\n",
       "0     -1.43450     -1.43450     -1.43450     -1.43450     -1.43450  ...   \n",
       "1     -1.00840     -1.00840     -1.00840     -1.00840     -1.00840  ...   \n",
       "2      0.69579      0.69579      0.69579      0.69579      0.69579  ...   \n",
       "3     -0.79333     -0.79333     -0.79333     -0.79333     -0.79333  ...   \n",
       "4     -1.09450     -1.09450     -1.09450     -1.09450     -1.09450  ...   \n",
       "\n",
       "   channel_1_306  channel_1_307  channel_1_308  channel_1_309  channel_1_310  \\\n",
       "0        0.77890        0.72444        0.71900        0.74817        0.80045   \n",
       "1        0.89650        0.92860        0.96034        0.98061        0.98061   \n",
       "2       -0.29499       -0.32339       -0.35012       -0.37685       -0.36570   \n",
       "3        0.87853        0.89864        0.91778        0.93692        0.95607   \n",
       "4        1.19180        1.19180        1.19180        1.19180        1.19180   \n",
       "\n",
       "   channel_1_311  channel_1_312  channel_1_313  channel_1_314  classAttribute  \n",
       "0        0.84197        0.85115        0.85115        0.85115          b'1.0'  \n",
       "1        0.97453        0.95061        0.91327        0.87593          b'1.0'  \n",
       "2       -0.33724       -0.30878       -0.28033       -0.25187          b'1.0'  \n",
       "3        0.95655        0.95655        0.95655        0.95655          b'1.0'  \n",
       "4        1.19180        1.19180        1.19180        1.19180          b'1.0'  \n",
       "\n",
       "[5 rows x 316 columns]"
      ]
     },
     "execution_count": 15,
     "metadata": {},
     "output_type": "execute_result"
    }
   ],
   "source": [
    "df.head()"
   ]
  },
  {
   "cell_type": "code",
   "execution_count": null,
   "id": "restricted-boxing",
   "metadata": {},
   "outputs": [],
   "source": []
  }
 ],
 "metadata": {
  "kernelspec": {
   "display_name": "Python 3",
   "language": "python",
   "name": "python3"
  },
  "language_info": {
   "codemirror_mode": {
    "name": "ipython",
    "version": 3
   },
   "file_extension": ".py",
   "mimetype": "text/x-python",
   "name": "python",
   "nbconvert_exporter": "python",
   "pygments_lexer": "ipython3",
   "version": "3.7.9"
  }
 },
 "nbformat": 4,
 "nbformat_minor": 5
}
